{
 "cells": [
  {
   "cell_type": "code",
   "execution_count": 3,
   "metadata": {},
   "outputs": [],
   "source": [
    "import pandas as pd\n",
    "from splinter import Browser\n",
    "from bs4 import BeautifulSoup\n",
    "import time"
   ]
  },
  {
   "cell_type": "code",
   "execution_count": 4,
   "metadata": {},
   "outputs": [
    {
     "ename": "UnboundLocalError",
     "evalue": "local variable 'e' referenced before assignment",
     "output_type": "error",
     "traceback": [
      "\u001b[0;31m---------------------------------------------------------------------------\u001b[0m",
      "\u001b[0;31mUnboundLocalError\u001b[0m                         Traceback (most recent call last)",
      "\u001b[0;32m<ipython-input-4-1758fab467fa>\u001b[0m in \u001b[0;36m<module>\u001b[0;34m\u001b[0m\n\u001b[1;32m      1\u001b[0m \u001b[0mexecutable_path\u001b[0m \u001b[0;34m=\u001b[0m \u001b[0;34m{\u001b[0m\u001b[0;34m'executable_path'\u001b[0m\u001b[0;34m:\u001b[0m \u001b[0;34m'chromedriver.exe'\u001b[0m\u001b[0;34m}\u001b[0m\u001b[0;34m\u001b[0m\u001b[0;34m\u001b[0m\u001b[0m\n\u001b[0;32m----> 2\u001b[0;31m \u001b[0mbrowser\u001b[0m \u001b[0;34m=\u001b[0m \u001b[0mBrowser\u001b[0m\u001b[0;34m(\u001b[0m\u001b[0;34m'chrome'\u001b[0m\u001b[0;34m,\u001b[0m \u001b[0;34m**\u001b[0m\u001b[0mexecutable_path\u001b[0m\u001b[0;34m,\u001b[0m \u001b[0mheadless\u001b[0m\u001b[0;34m=\u001b[0m\u001b[0;32mTrue\u001b[0m\u001b[0;34m)\u001b[0m\u001b[0;34m\u001b[0m\u001b[0;34m\u001b[0m\u001b[0m\n\u001b[0m",
      "\u001b[0;32m/opt/anaconda3/lib/python3.7/site-packages/splinter/browser.py\u001b[0m in \u001b[0;36mBrowser\u001b[0;34m(driver_name, retry_count, *args, **kwargs)\u001b[0m\n\u001b[1;32m     88\u001b[0m         \u001b[0;32mraise\u001b[0m \u001b[0mDriverNotFoundError\u001b[0m\u001b[0;34m(\u001b[0m\u001b[0;34m\"No driver for %s\"\u001b[0m \u001b[0;34m%\u001b[0m \u001b[0mdriver_name\u001b[0m\u001b[0;34m)\u001b[0m\u001b[0;34m\u001b[0m\u001b[0;34m\u001b[0m\u001b[0m\n\u001b[1;32m     89\u001b[0m \u001b[0;34m\u001b[0m\u001b[0m\n\u001b[0;32m---> 90\u001b[0;31m     \u001b[0;32mreturn\u001b[0m \u001b[0mget_driver\u001b[0m\u001b[0;34m(\u001b[0m\u001b[0mdriver\u001b[0m\u001b[0;34m,\u001b[0m \u001b[0;34m*\u001b[0m\u001b[0margs\u001b[0m\u001b[0;34m,\u001b[0m \u001b[0;34m**\u001b[0m\u001b[0mkwargs\u001b[0m\u001b[0;34m)\u001b[0m\u001b[0;34m\u001b[0m\u001b[0;34m\u001b[0m\u001b[0m\n\u001b[0m",
      "\u001b[0;32m/opt/anaconda3/lib/python3.7/site-packages/splinter/browser.py\u001b[0m in \u001b[0;36mget_driver\u001b[0;34m(driver, retry_count, *args, **kwargs)\u001b[0m\n\u001b[1;32m     66\u001b[0m             \u001b[0;32mpass\u001b[0m\u001b[0;34m\u001b[0m\u001b[0;34m\u001b[0m\u001b[0m\n\u001b[1;32m     67\u001b[0m \u001b[0;34m\u001b[0m\u001b[0m\n\u001b[0;32m---> 68\u001b[0;31m     \u001b[0;32mraise\u001b[0m \u001b[0me\u001b[0m\u001b[0;34m\u001b[0m\u001b[0;34m\u001b[0m\u001b[0m\n\u001b[0m\u001b[1;32m     69\u001b[0m \u001b[0;34m\u001b[0m\u001b[0m\n\u001b[1;32m     70\u001b[0m \u001b[0;34m\u001b[0m\u001b[0m\n",
      "\u001b[0;31mUnboundLocalError\u001b[0m: local variable 'e' referenced before assignment"
     ]
    }
   ],
   "source": [
    "executable_path = {'executable_path': 'chromedriver.exe'}\n",
    "browser = Browser('chrome', **executable_path, headless=True)"
   ]
  },
  {
   "cell_type": "code",
   "execution_count": null,
   "metadata": {},
   "outputs": [],
   "source": [
    "breweries= pd.read_csv('data/breweries.csv')"
   ]
  },
  {
   "cell_type": "code",
   "execution_count": 5,
   "metadata": {},
   "outputs": [
    {
     "data": {
      "text/plain": [
       "52"
      ]
     },
     "execution_count": 5,
     "metadata": {},
     "output_type": "execute_result"
    }
   ],
   "source": [
    "brewery_id = []\n",
    "x=0\n",
    "for brewery in breweries['Brewery']:\n",
    "    brewery_id += 5 * [x]\n",
    "    x +=1\n",
    "brewery_id.pop(263)"
   ]
  },
  {
   "cell_type": "code",
   "execution_count": null,
   "metadata": {},
   "outputs": [],
   "source": [
    "#giant loop to scrape each untappd site for each brewery and append the values into the empty lists\n",
    "beer_name=[]\n",
    "beer_type=[]\n",
    "beer_abv=[]\n",
    "beer_ibu=[]\n",
    "beer_rating=[]\n",
    "beer_number_rating=[]\n",
    "\n",
    "for url in breweries['Untappd']:\n",
    "\n",
    "    browser.visit(url)\n",
    "    html = browser.html\n",
    "    soup = BeautifulSoup(html, 'html.parser')\n",
    "    beer = soup.find('div', class_='beer-container')\n",
    "    beer_name_search = beer.find_all('p', class_='name')[:5]\n",
    "    beer_type_search = beer.find_all('p', class_='style')[:5]\n",
    "\n",
    "    beer_abv_search = beer.find_all('div', class_='details-item abv')[:5]\n",
    "    beer_abv_search2 = beer.find_all('p', class_='abv')[:5]\n",
    "\n",
    "    beer_ibu_search = beer.find_all('div', class_='details-item ibu')[:5]\n",
    "    beer_ibu_search2 = beer.find_all('p', class_='ibu')[:5]\n",
    "\n",
    "    beer_rating_search = beer.find_all('span', class_='num')[:5]\n",
    "\n",
    "    beer_popular = beer.find_all('div', class_='details-item raters')[:5]\n",
    "    beer_popular2 = beer.find_all('p', class_='raters')[:5]\n",
    "\n",
    "    for paragraph in beer_name_search:\n",
    "        if paragraph.a:\n",
    "            beer_name.append(paragraph.a.text)\n",
    "\n",
    "    for paragraph in beer_type_search:\n",
    "        if paragraph.text:\n",
    "            beer_type.append(paragraph.text)\n",
    "\n",
    "    for paragraph in beer_abv_search:\n",
    "        if paragraph.text:\n",
    "            beer_abv.append(paragraph.text)\n",
    "    for paragraph in beer_abv_search2:\n",
    "        if paragraph.text:\n",
    "            beer_abv.append(paragraph.text)\n",
    "\n",
    "    for paragraph in beer_ibu_search:\n",
    "        if paragraph.text:\n",
    "            beer_ibu.append(paragraph.text)\n",
    "    for paragraph in beer_ibu_search2:\n",
    "        if paragraph.text:\n",
    "            beer_ibu.append(paragraph.text)\n",
    "\n",
    "    for paragraph in beer_rating_search:\n",
    "        if paragraph.text:\n",
    "            beer_rating.append(paragraph.text)\n",
    "\n",
    "    for paragraph in beer_popular:\n",
    "        if paragraph.text:\n",
    "            beer_number_rating.append(paragraph.text)\n",
    "    for paragraph in beer_popular2:\n",
    "        if paragraph.text:\n",
    "            beer_number_rating.append(paragraph.text)\n",
    "            "
   ]
  },
  {
   "cell_type": "code",
   "execution_count": null,
   "metadata": {},
   "outputs": [],
   "source": [
    "#check to make sure we get number of values\n",
    "print(len(beer_name))\n",
    "print(len(beer_type))\n",
    "print(len(beer_abv))\n",
    "print(len(beer_ibu))\n",
    "print(len(beer_rating))\n",
    "print(len(beer_number_rating))"
   ]
  },
  {
   "cell_type": "code",
   "execution_count": null,
   "metadata": {},
   "outputs": [],
   "source": [
    "beer_df = pd.DataFrame({'Brewery_ID':brewery_id,\n",
    "                       'Name':beer_name,\n",
    "                       'Type': beer_type,\n",
    "                       'ABV': beer_abv,\n",
    "                       'IBU':beer_ibu,\n",
    "                       'Rating':beer_rating,\n",
    "                       'Rating_Count':beer_number_rating})"
   ]
  },
  {
   "cell_type": "code",
   "execution_count": null,
   "metadata": {},
   "outputs": [],
   "source": [
    "beer_df.to_csv('data/beer_list_dirty.csv')\n",
    "beer_df.head(10)"
   ]
  },
  {
   "cell_type": "code",
   "execution_count": null,
   "metadata": {},
   "outputs": [],
   "source": [
    "\n",
    "#clean ABV\n",
    "beer_df['ABV']=beer_df['ABV'].str.replace('% ABV','')\n",
    "beer_df['ABV']=beer_df['ABV'].str.replace('\\n','')\n",
    "#pd.to_numeric()"
   ]
  },
  {
   "cell_type": "code",
   "execution_count": null,
   "metadata": {},
   "outputs": [],
   "source": [
    "#convert to number, errors = coerce replace other values as NaN\n",
    "beer_df['ABV']=pd.to_numeric(beer_df['ABV'],errors='coerce')"
   ]
  },
  {
   "cell_type": "code",
   "execution_count": null,
   "metadata": {},
   "outputs": [],
   "source": [
    "\n",
    "#clean IBU column\n",
    "beer_df['IBU']=beer_df['IBU'].str.replace(' IBU','')\n",
    "beer_df['IBU']=beer_df['IBU'].str.replace('\\n','')\n",
    "beer_df['IBU']=pd.to_numeric(beer_df['IBU'],errors='coerce')"
   ]
  },
  {
   "cell_type": "code",
   "execution_count": null,
   "metadata": {},
   "outputs": [],
   "source": [
    "#clean Rating Column\n",
    "beer_df['Rating']=beer_df['Rating'].str.replace('(','')\n",
    "beer_df['Rating']=beer_df['Rating'].str.replace(')','')\n",
    "beer_df['Rating']=pd.to_numeric(beer_df['Rating'],errors='coerce')"
   ]
  },
  {
   "cell_type": "code",
   "execution_count": null,
   "metadata": {},
   "outputs": [],
   "source": [
    "\n",
    "#clean Rating_Count Column\n",
    "beer_df['Rating_Count']=beer_df['Rating_Count'].str.replace('\\n','')\n",
    "beer_df['Rating_Count']=beer_df['Rating_Count'].str.replace(',','')\n",
    "beer_df['Rating_Count']=beer_df['Rating_Count'].str.replace(' Ratings','')\n",
    "beer_df['Rating_Count']=pd.to_numeric(beer_df['Rating_Count'],errors='coerce')"
   ]
  },
  {
   "cell_type": "code",
   "execution_count": null,
   "metadata": {},
   "outputs": [],
   "source": [
    "beer_df_clean = beer_df"
   ]
  },
  {
   "cell_type": "code",
   "execution_count": null,
   "metadata": {},
   "outputs": [],
   "source": [
    "\n",
    "beer_df_clean.to_csv('data/beer_list_clean.csv')"
   ]
  },
  {
   "cell_type": "code",
   "execution_count": null,
   "metadata": {},
   "outputs": [],
   "source": []
  },
  {
   "cell_type": "code",
   "execution_count": null,
   "metadata": {},
   "outputs": [],
   "source": []
  },
  {
   "cell_type": "code",
   "execution_count": null,
   "metadata": {},
   "outputs": [],
   "source": []
  }
 ],
 "metadata": {
  "kernelspec": {
   "display_name": "Python 3",
   "language": "python",
   "name": "python3"
  },
  "language_info": {
   "codemirror_mode": {
    "name": "ipython",
    "version": 3
   },
   "file_extension": ".py",
   "mimetype": "text/x-python",
   "name": "python",
   "nbconvert_exporter": "python",
   "pygments_lexer": "ipython3",
   "version": "3.7.6"
  }
 },
 "nbformat": 4,
 "nbformat_minor": 4
}
