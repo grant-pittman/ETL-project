{
 "cells": [
  {
   "cell_type": "code",
   "execution_count": null,
   "metadata": {},
   "outputs": [],
   "source": [
    "drop table if exists beers;\n",
    "drop table if exists breweries;\n",
    "\n",
    "create table breweries (\n",
    "\tid serial primary key not null,\n",
    "\tname varchar(200),\n",
    "\tstreet_address varchar(200),\n",
    "\tzip_code int,\n",
    "\taustin_area varchar(50)\t\n",
    ");\n",
    "\n",
    "create table beers (\n",
    "\tid serial primary key not null,\n",
    "\tbrewery_id int not null,\n",
    "\tforeign key (brewery_id) references breweries(id),\n",
    "\tname varchar(200),\n",
    "\ttype varchar(200),\n",
    "\tabv float,\n",
    "\tibu float,\n",
    "\trating float,\n",
    "\trating_count int\n",
    ");\n",
    "\n",
    "select * from beers;"
   ]
  }
 ],
 "metadata": {
  "kernelspec": {
   "display_name": "Python 3",
   "language": "python",
   "name": "python3"
  },
  "language_info": {
   "codemirror_mode": {
    "name": "ipython",
    "version": 3
   },
   "file_extension": ".py",
   "mimetype": "text/x-python",
   "name": "python",
   "nbconvert_exporter": "python",
   "pygments_lexer": "ipython3",
   "version": "3.7.6"
  }
 },
 "nbformat": 4,
 "nbformat_minor": 4
}
